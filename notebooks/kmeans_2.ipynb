{
 "cells": [
  {
   "cell_type": "code",
   "execution_count": 1,
   "metadata": {
    "collapsed": true
   },
   "outputs": [],
   "source": [
    "from __future__ import division\n",
    "import random\n",
    "import numpy as np\n",
    "from scipy.spatial.distance import cdist  # $scipy/spatial/distance.py\n",
    "    # http://docs.scipy.org/doc/scipy/reference/spatial.html\n",
    "from scipy.sparse import issparse  # $scipy/sparse/csr.py"
   ]
  },
  {
   "cell_type": "code",
   "execution_count": 4,
   "metadata": {},
   "outputs": [],
   "source": [
    "def kmeans( X, centres, delta=.001, maxiter=10, metric=\"euclidean\", p=2, verbose=1 ):\n",
    "    \"\"\" centres, Xtocentre, distances = kmeans( X, initial centres ... )\n",
    "    in:\n",
    "        X N x dim  may be sparse\n",
    "        centres k x dim: initial centres, e.g. random.sample( X, k )\n",
    "        delta: relative error, iterate until the average distance to centres\n",
    "            is within delta of the previous average distance\n",
    "        maxiter\n",
    "        metric: any of the 20-odd in scipy.spatial.distance\n",
    "            \"chebyshev\" = max, \"cityblock\" = L1, \"minkowski\" with p=\n",
    "            or a function( Xvec, centrevec ), e.g. Lqmetric below\n",
    "        p: for minkowski metric -- local mod cdist for 0 < p < 1 too\n",
    "        verbose: 0 silent, 2 prints running distances\n",
    "    out:\n",
    "        centres, k x dim\n",
    "        Xtocentre: each X -> its nearest centre, ints N -> k\n",
    "        distances, N\n",
    "    see also: kmeanssample below, class Kmeans below.\n",
    "    \"\"\"\n",
    "    if not issparse(X):\n",
    "        X = np.asanyarray(X)  # ?\n",
    "    centres = centres.todense() if issparse(centres) \\\n",
    "        else centres.copy()\n",
    "    N, dim = X.shape\n",
    "    k, cdim = centres.shape\n",
    "    if dim != cdim:\n",
    "        raise ValueError( \"kmeans: X %s and centres %s must have the same number of columns\" % (\n",
    "            X.shape, centres.shape ))\n",
    "    if verbose:\n",
    "        print(\"kmeans: X %s  centres %s  delta=%.2g  maxiter=%d  metric=%s\" % (\n",
    "            X.shape, centres.shape, delta, maxiter, metric))\n",
    "    allx = np.arange(N)\n",
    "    prevdist = 0\n",
    "    for jiter in range( 1, maxiter+1 ):\n",
    "        D = cdist_sparse( X, centres, metric=metric, p=p )  # |X| x |centres|\n",
    "        xtoc = D.argmin(axis=1)  # X -> nearest centre\n",
    "        distances = D[allx,xtoc]\n",
    "        avdist = distances.mean()  # median ?\n",
    "        if verbose >= 2:\n",
    "            print(\"kmeans: av |X - nearest centre| = %.4g\" % avdist)\n",
    "        if (1 - delta) * prevdist <= avdist <= prevdist \\\n",
    "        or jiter == maxiter:\n",
    "            break\n",
    "        prevdist = avdist\n",
    "        for jc in range(k):  # (1 pass in C)\n",
    "            c = np.where( xtoc == jc )[0]\n",
    "            if len(c) > 0:\n",
    "                centres[jc] = X[c].mean( axis=0 )\n",
    "    if verbose:\n",
    "        print(\"kmeans: %d iterations  cluster sizes:\" % jiter, np.bincount(xtoc))\n",
    "    if verbose >= 2:\n",
    "        r50 = np.zeros(k)\n",
    "        r90 = np.zeros(k)\n",
    "        for j in range(k):\n",
    "            dist = distances[ xtoc == j ]\n",
    "            if len(dist) > 0:\n",
    "                r50[j], r90[j] = np.percentile( dist, (50, 90) )\n",
    "        print(\"kmeans: cluster 50 % radius\", r50.astype(int))\n",
    "        print(\"kmeans: cluster 90 % radius\", r90.astype(int))\n",
    "            # scale L1 / dim, L2 / sqrt(dim) ?\n",
    "    return centres, xtoc, distances"
   ]
  },
  {
   "cell_type": "code",
   "execution_count": 5,
   "metadata": {
    "collapsed": true
   },
   "outputs": [],
   "source": [
    "def kmeanssample( X, k, nsample=0, **kwargs ):\n",
    "    \"\"\" 2-pass kmeans, fast for large N:\n",
    "        1) kmeans a random sample of nsample ~ sqrt(N) from X\n",
    "        2) full kmeans, starting from those centres\n",
    "    \"\"\"\n",
    "        # merge w kmeans ? mttiw\n",
    "        # v large N: sample N^1/2, N^1/2 of that\n",
    "        # seed like sklearn ?\n",
    "    N, dim = X.shape\n",
    "    if nsample == 0:\n",
    "        nsample = max( 2*np.sqrt(N), 10*k )\n",
    "    Xsample = randomsample( X, int(nsample) )\n",
    "    pass1centres = randomsample( X, int(k) )\n",
    "    samplecentres = kmeans( Xsample, pass1centres, **kwargs )[0]\n",
    "    return kmeans( X, samplecentres, **kwargs )"
   ]
  },
  {
   "cell_type": "code",
   "execution_count": 6,
   "metadata": {
    "collapsed": true
   },
   "outputs": [],
   "source": [
    "def cdist_sparse( X, Y, **kwargs ):\n",
    "    \"\"\" -> |X| x |Y| cdist array, any cdist metric\n",
    "        X or Y may be sparse -- best csr\n",
    "    \"\"\"\n",
    "        # todense row at a time, v slow if both v sparse\n",
    "    sxy = 2*issparse(X) + issparse(Y)\n",
    "    if sxy == 0:\n",
    "        return cdist( X, Y, **kwargs )\n",
    "    d = np.empty( (X.shape[0], Y.shape[0]), np.float64 )\n",
    "    if sxy == 2:\n",
    "        for j, x in enumerate(X):\n",
    "            d[j] = cdist( x.todense(), Y, **kwargs ) [0]\n",
    "    elif sxy == 1:\n",
    "        for k, y in enumerate(Y):\n",
    "            d[:,k] = cdist( X, y.todense(), **kwargs ) [0]\n",
    "    else:\n",
    "        for j, x in enumerate(X):\n",
    "            for k, y in enumerate(Y):\n",
    "                d[j,k] = cdist( x.todense(), y.todense(), **kwargs ) [0]\n",
    "    return d"
   ]
  },
  {
   "cell_type": "code",
   "execution_count": 14,
   "metadata": {
    "collapsed": true
   },
   "outputs": [],
   "source": [
    "def randomsample( X, n ):\n",
    "    \"\"\" random.sample of the rows of X\n",
    "        X may be sparse -- best csr\n",
    "    \"\"\"\n",
    "    sampleix = random.sample( range( X.shape[0] ), int(n) )\n",
    "    return X[sampleix]"
   ]
  },
  {
   "cell_type": "code",
   "execution_count": 15,
   "metadata": {
    "collapsed": true
   },
   "outputs": [],
   "source": [
    "def nearestcentres( X, centres, metric=\"euclidean\", p=2 ):\n",
    "    \"\"\" each X -> nearest centre, any metric\n",
    "            euclidean2 (~ withinss) is more sensitive to outliers,\n",
    "            cityblock (manhattan, L1) less sensitive\n",
    "    \"\"\"\n",
    "    D = cdist( X, centres, metric=metric, p=p )  # |X| x |centres|\n",
    "    return D.argmin(axis=1)"
   ]
  },
  {
   "cell_type": "code",
   "execution_count": 16,
   "metadata": {
    "collapsed": true
   },
   "outputs": [],
   "source": [
    "def Lqmetric( x, y=None, q=.5 ):\n",
    "    # yes a metric, may increase weight of near matches; see ...\n",
    "    return (np.abs(x - y) ** q) .mean() if y is not None \\\n",
    "        else (np.abs(x) ** q) .mean()"
   ]
  },
  {
   "cell_type": "code",
   "execution_count": 17,
   "metadata": {
    "collapsed": true
   },
   "outputs": [],
   "source": [
    "class Kmeans:\n",
    "    \"\"\" km = Kmeans( X, k= or centres=, ... )\n",
    "        in: either initial centres= for kmeans\n",
    "            or k= [nsample=] for kmeanssample\n",
    "        out: km.centres, km.Xtocentre, km.distances\n",
    "        iterator:\n",
    "            for jcentre, J in km:\n",
    "                clustercentre = centres[jcentre]\n",
    "                J indexes e.g. X[J], classes[J]\n",
    "    \"\"\"\n",
    "    def __init__( self, X, k=0, centres=None, nsample=0, **kwargs ):\n",
    "        self.X = X\n",
    "        if centres is None:\n",
    "            self.centres, self.Xtocentre, self.distances = kmeanssample(\n",
    "                X, k=k, nsample=nsample, **kwargs )\n",
    "        else:\n",
    "            self.centres, self.Xtocentre, self.distances = kmeans(\n",
    "                X, centres, **kwargs )\n",
    "\n",
    "    def __iter__(self):\n",
    "        for jc in range(len(self.centres)):\n",
    "            yield jc, (self.Xtocentre == jc)"
   ]
  },
  {
   "cell_type": "code",
   "execution_count": 18,
   "metadata": {},
   "outputs": [
    {
     "name": "stdout",
     "output_type": "stream",
     "text": [
      "N 10000  dim 10  ncluster 10  kmsample 100  metric cityblock\n",
      "kmeans: X (100, 10)  centres (10, 10)  delta=0.001  maxiter=10  metric=cityblock\n",
      "kmeans: av |X - nearest centre| = 7.426\n",
      "kmeans: av |X - nearest centre| = 6.263\n",
      "kmeans: av |X - nearest centre| = 5.942\n",
      "kmeans: av |X - nearest centre| = 5.858\n",
      "kmeans: av |X - nearest centre| = 5.867\n",
      "kmeans: av |X - nearest centre| = 5.855\n",
      "kmeans: av |X - nearest centre| = 5.834\n",
      "kmeans: av |X - nearest centre| = 5.818\n",
      "kmeans: av |X - nearest centre| = 5.818\n",
      "kmeans: 9 iterations  cluster sizes: [ 8 10 28  7 17  5  5  0 12  8]\n",
      "kmeans: cluster 50 % radius [5 5 5 5 5 5 6 0 5 6]\n",
      "kmeans: cluster 90 % radius [7 8 7 7 6 6 8 0 6 8]\n",
      "kmeans: X (10000, 10)  centres (10, 10)  delta=0.001  maxiter=10  metric=cityblock\n",
      "kmeans: av |X - nearest centre| = 6.265\n",
      "kmeans: av |X - nearest centre| = 6.202\n",
      "kmeans: av |X - nearest centre| = 6.085\n",
      "kmeans: av |X - nearest centre| = 6.018\n",
      "kmeans: av |X - nearest centre| = 5.993\n",
      "kmeans: av |X - nearest centre| = 5.979\n",
      "kmeans: av |X - nearest centre| = 5.977\n",
      "kmeans: 7 iterations  cluster sizes: [ 501 1061 3133  820 1171  663  283  244 1058 1066]\n",
      "kmeans: cluster 50 % radius [6 5 5 6 5 6 6 6 5 5]\n",
      "kmeans: cluster 90 % radius [ 9  7  7  8  8  9  9 10  8  7]\n",
      "31 msec\n"
     ]
    }
   ],
   "source": [
    "if __name__ == \"__main__\":\n",
    "    import random\n",
    "    import sys\n",
    "    from time import time\n",
    "\n",
    "    N = 10000\n",
    "    dim = 10\n",
    "    ncluster = 10\n",
    "    kmsample = 100  # 0: random centres, > 0: kmeanssample\n",
    "    kmdelta = .001\n",
    "    kmiter = 10\n",
    "    metric = \"cityblock\"  # \"chebyshev\" = max, \"cityblock\" L1,  Lqmetric\n",
    "    seed = 1\n",
    "\n",
    "    #exec( \"\\n\".join( sys.argv[1:] ))  # run this.py N= ...\n",
    "    np.set_printoptions( 1, threshold=200, edgeitems=5, suppress=True )\n",
    "    np.random.seed(seed)\n",
    "    random.seed(seed)\n",
    "\n",
    "    print(\"N %d  dim %d  ncluster %d  kmsample %d  metric %s\" % (\n",
    "        N, dim, ncluster, kmsample, metric))\n",
    "    X = np.random.exponential( size=(N,dim) )\n",
    "        # cf scikits-learn datasets/\n",
    "    t0 = time()\n",
    "    if kmsample > 0:\n",
    "        centres, xtoc, dist = kmeanssample( X, ncluster, nsample=kmsample,\n",
    "            delta=kmdelta, maxiter=kmiter, metric=metric, verbose=2 )\n",
    "    else:\n",
    "        randomcentres = randomsample( X, ncluster )\n",
    "        centres, xtoc, dist = kmeans( X, randomcentres,\n",
    "            delta=kmdelta, maxiter=kmiter, metric=metric, verbose=2 )\n",
    "    print(\"%.0f msec\" % ((time() - t0) * 1000))"
   ]
  },
  {
   "cell_type": "code",
   "execution_count": null,
   "metadata": {
    "collapsed": true
   },
   "outputs": [],
   "source": []
  }
 ],
 "metadata": {
  "kernelspec": {
   "display_name": "Python 3",
   "language": "python",
   "name": "python3"
  },
  "language_info": {
   "codemirror_mode": {
    "name": "ipython",
    "version": 3
   },
   "file_extension": ".py",
   "mimetype": "text/x-python",
   "name": "python",
   "nbconvert_exporter": "python",
   "pygments_lexer": "ipython3",
   "version": "3.6.3"
  }
 },
 "nbformat": 4,
 "nbformat_minor": 2
}
