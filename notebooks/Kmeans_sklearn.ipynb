{
 "cells": [
  {
   "cell_type": "markdown",
   "metadata": {},
   "source": [
    "# K-means Clustering using scikit-learn\n",
    "\"This notebook corresponds to version {{ version }} of the pipeline tool: https://github.com/jiangshan123/Capstone_TDI\"\n",
    "\n",
    "This notebook begins with a cleanned CSV data and ends with k-means clustering results.\n",
    "\n",
    "Data Cleanning pipline: https://github.com/jiangshan123/Capstone_TDI/blob/master/notebooks/data_wrangling.ipynb\n",
    "\n",
    "\n",
    "## Overview\n",
    "\n",
    "* Setup: load packages/setup path\n",
    "* Load Demo Data\n",
    "* Deal with missing data\n",
    "* Deal with string data using Labelencode\n",
    "* Preliminary statistical data analysis\n",
    "* Data Visualization\n",
    "* Save cleaned Data\n",
    "\n",
    "The important scientific code is imported from the [Capstone_TDI](https://github.com/jiangshan123/Capstone_TDI) project. Refer to Capstone_TDI for additional documentation and citation information.\n",
    "\n",
    "### DEV\n",
    "* V1: Update histplot\n",
    "*     Update boxplot\n",
    "\n",
    "## Setup\n",
    "\n",
    "Import packages for I/O, visualization, and analysis."
   ]
  },
  {
   "cell_type": "code",
   "execution_count": null,
   "metadata": {
    "collapsed": true
   },
   "outputs": [],
   "source": []
  }
 ],
 "metadata": {
  "kernelspec": {
   "display_name": "Python 3",
   "language": "python",
   "name": "python3"
  },
  "language_info": {
   "codemirror_mode": {
    "name": "ipython",
    "version": 3
   },
   "file_extension": ".py",
   "mimetype": "text/x-python",
   "name": "python",
   "nbconvert_exporter": "python",
   "pygments_lexer": "ipython3",
   "version": "3.6.3"
  }
 },
 "nbformat": 4,
 "nbformat_minor": 2
}
