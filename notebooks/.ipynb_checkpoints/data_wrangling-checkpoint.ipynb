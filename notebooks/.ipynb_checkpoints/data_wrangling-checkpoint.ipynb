{
 "cells": [
  {
   "cell_type": "markdown",
   "metadata": {
    "collapsed": true
   },
   "source": [
    "# Data Wrangling Pipeline for Demo Data\n",
    "\"This notebook corresponds to version {{ version }} of the pipeline tool: https://github.com/jiangshan123/Capstone_TDI\"\n",
    "\n",
    "This notebook begins with a raw CSV data and ends with data ready for machine learning.\n",
    "\n",
    "## Demo Data\n",
    "\n",
    "* Demo Data can be found here: https://github.com/jiangshan123/Capstone_TDI/blob/master/data/user_data_rui_liu.csv\n",
    "\n",
    "* Demo data is a CSV file with some anonymized user data. The data corresponds to customers who purchase hair care products. Each row is a user (with a corresponding user_id) and there are 88759 users. The table contains 109 columns, or features, where user_id is considered a feature.\n",
    "\n",
    "* There is no transaction data, but we summarize customers' transaction history using lifetime total revenue (LTR). This is the column in the dataset with label \"predicted_future_ltr_10yr\". Also included are revenue (total revenue so far) and purchases (total number of orders so far).\n",
    "\n",
    "* There are also user-profile questions that were provided via an online Quiz. The 109 columns include categorical data that has been one-hot-encoded. \n",
    "\n",
    "## Overview\n",
    "\n",
    "* Setup: load packages/setup path\n",
    "* Load Demo Data\n",
    "* Deal with missing data\n",
    "* Deal with string data using Labelencode\n",
    "* Preliminary statistical data analysis\n",
    "* Data Visualization\n",
    "* Save cleaned Data\n",
    "\n",
    "The important scientific code is imported from the [Capstone_TDI](https://github.com/jiangshan123/Capstone_TDI) project. Refer to Capstone_TDI for additional documentation and citation information.\n",
    "\n",
    "### DEV\n",
    "* V1: Update data saving\n",
    "*     Update normlization \n",
    "\n",
    "## Setup\n",
    "\n",
    "Import packages for I/O, visualization, and analysis."
   ]
  },
  {
   "cell_type": "markdown",
   "metadata": {},
   "source": []
  }
 ],
 "metadata": {
  "kernelspec": {
   "display_name": "Python 3",
   "language": "python",
   "name": "python3"
  },
  "language_info": {
   "codemirror_mode": {
    "name": "ipython",
    "version": 3
   },
   "file_extension": ".py",
   "mimetype": "text/x-python",
   "name": "python",
   "nbconvert_exporter": "python",
   "pygments_lexer": "ipython3",
   "version": "3.6.3"
  }
 },
 "nbformat": 4,
 "nbformat_minor": 2
}
